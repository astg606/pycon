{
 "cells": [
  {
   "cell_type": "markdown",
   "metadata": {
    "id": "-24vit7OoB1x"
   },
   "source": [
    "<center>\n",
    "<table>\n",
    "  <tr>\n",
    "    <td><img src=\"https://portal.nccs.nasa.gov/datashare/astg/training/python/logos/nasa-logo.svg\" width=\"100\"/> </td>\n",
    "     <td><img src=\"https://portal.nccs.nasa.gov/datashare/astg/training/python/logos/ASTG_logo.png?raw=true\" width=\"80\"/> </td>\n",
    "     <td> <img src=\"https://www.nccs.nasa.gov/sites/default/files/NCCS_Logo_0.png\" width=\"130\"/> </td>\n",
    "    </tr>\n",
    "</table>\n",
    "</center>\n",
    "\n",
    "        \n",
    "<center>\n",
    "<h2><font color= \"blue\" size=\"+3\">PyCon 2024 Tutorial</font></h2>\n",
    "</center>\n",
    "\n",
    "---\n",
    "\n",
    "<center>\n",
    "    <h3>Python Workflows to Extract and Plot Satellite Data Products along Tracks</h3>\n",
    "    <h2><font color=\"red\" size=\"+3\">Background</font></h2>\n",
    "</center>"
   ]
  },
  {
   "cell_type": "markdown",
   "metadata": {
    "id": "sqZRoZwmoB11"
   },
   "source": [
    "_______"
   ]
  },
  {
   "cell_type": "markdown",
   "metadata": {},
   "source": [
    "## <font color=\"red\"> Objectives</font>\n",
    "\n",
    "- We want to show the steps we need to take after we collect timeseries data (locations and fields) of a moving object.\n",
    "- We use the Pandas, Shapely, GeoPandas and MovingPandas to process the data, perform analyses and do visualization.\n",
    "\n",
    "We particular want to do a quick introduction on Pandas, GeoPandas and MovingPandas that are the main packages we will be using to track the movement of an object."
   ]
  },
  {
   "cell_type": "markdown",
   "metadata": {},
   "source": [
    "## <font color=\"red\">Movement of planar objects</font>\n",
    "\n",
    "- In this tutorial, we are interested in tracking the movement of objects in a two-dimensional space or plane.\n",
    "   - We assume that an object\n",
    "- Over a time period, we want to collect data from the movement, where each dat point contains:\n",
    "   - The date/time\n",
    "   - The location (latitude and longitude)\n",
    "   - (optionally) Measurements at the location\n",
    "- With the timeseries dataset, we can:\n",
    "   - Compute parameters such as distance, speed, etc.\n",
    "   - Compare measurements against model simulations\n",
    " \n",
    "### <font color=\"blue\">Examples</font>\n",
    "- The eye of an hurricane\n",
    "- Track the movement of a car\n",
    "- Track the movement of a ship\n",
    "- Movement of (baskeetball, soccer, football, etc.) players\n",
    "- The International Space Station (ISS)\n",
    "- Movement of a satellite"
   ]
  },
  {
   "cell_type": "markdown",
   "metadata": {
    "id": "CLTjzNBJoB12"
   },
   "source": [
    "---"
   ]
  },
  {
   "cell_type": "markdown",
   "metadata": {
    "id": "SYmagjSHoB13"
   },
   "source": [
    "## <font color=\"red\">Required Packages</font>\n",
    "\n",
    "- __Matplotlib__: for basic plots.\n",
    "- __Pandas__: Manipulation and exploratory data analysis of tabular data.\n",
    "- __Shapely__: For manipulation and analysis of planar geometric objects\n",
    "- __GeosPandas__: Combines the capabilities of Pandas and Shapely for geospatial operations\n",
    "- __MovingPandas__: Handling the movement of geospatial objects."
   ]
  },
  {
   "cell_type": "markdown",
   "metadata": {},
   "source": [
    "----"
   ]
  },
  {
   "cell_type": "code",
   "execution_count": null,
   "metadata": {
    "id": "nT_3Q7CUoB15"
   },
   "outputs": [],
   "source": [
    "import warnings\n",
    "warnings.filterwarnings(\"ignore\")"
   ]
  },
  {
   "cell_type": "code",
   "execution_count": null,
   "metadata": {
    "id": "ZX-VYGqaoB16"
   },
   "outputs": [],
   "source": [
    "%matplotlib inline\n",
    "import matplotlib.pyplot as plt"
   ]
  },
  {
   "cell_type": "code",
   "execution_count": null,
   "metadata": {},
   "outputs": [],
   "source": [
    "import numpy as np\n",
    "import pandas as pd\n",
    "import geopandas as gpd"
   ]
  },
  {
   "cell_type": "code",
   "execution_count": null,
   "metadata": {
    "id": "FBT2ouX8oB16"
   },
   "outputs": [],
   "source": [
    "from shapely import geometry as shpgeom\n",
    "from shapely import wkt as shpwkt"
   ]
  },
  {
   "cell_type": "code",
   "execution_count": null,
   "metadata": {},
   "outputs": [],
   "source": [
    "import movingpandas as mpd"
   ]
  },
  {
   "cell_type": "code",
   "execution_count": null,
   "metadata": {},
   "outputs": [],
   "source": [
    "import holoviews as hv"
   ]
  },
  {
   "cell_type": "code",
   "execution_count": null,
   "metadata": {},
   "outputs": [],
   "source": [
    "import hvplot.pandas "
   ]
  },
  {
   "cell_type": "code",
   "execution_count": null,
   "metadata": {},
   "outputs": [],
   "source": [
    "plot_defaults = {'linewidth':5, 'capstyle':'round', 'figsize':(9,3), 'legend':True}\n",
    "hv.opts.defaults(hv.opts.Overlay(active_tools=['wheel_zoom'], \n",
    "                              frame_width=500, frame_height=400))\n",
    "hvplot_defaults = {'tiles':None, 'cmap':'Viridis', 'colorbar':True}"
   ]
  },
  {
   "cell_type": "code",
   "execution_count": null,
   "metadata": {},
   "outputs": [],
   "source": [
    "mpd.show_versions()"
   ]
  },
  {
   "cell_type": "markdown",
   "metadata": {},
   "source": [
    "![fig_pd](https://pandas.pydata.org/docs/_static/pandas.svg)\n",
    "\n",
    "- Pandas is a Python package providing fast, flexible, and expressive data structures designed to make working with two-dimensional labeled data both easy and intuitive.\n",
    "- It aims to be the fundamental high-level building block for doing practical, real-world data analysis in Python."
   ]
  },
  {
   "cell_type": "markdown",
   "metadata": {},
   "source": [
    "### <font color=\"blue\">Example</font>\n",
    "\n",
    "Consider the [forecast of the track of the hurricane KATRINA in 2005](https://www.esl.lsu.edu/hurricanes/2005/KATRINA/) that consists of the following:\n",
    "\n",
    "- The dates/times\n",
    "- The locations (in terms of latitudes and longitudes)\n",
    "- The surface pressure at each location"
   ]
  },
  {
   "cell_type": "code",
   "execution_count": null,
   "metadata": {},
   "outputs": [],
   "source": [
    "dates = [\"20050824 02\", \"20050824 08\", \"20050824 14\", \"20050824 20\", \n",
    "         \"20050825 02\", \"20050825 08\", \"20050825 14\", \"20050825 20\",\n",
    "         \"20050826 02\", \"20050826 08\", \"20050826 14\", \"20050826 20\", \n",
    "         \"20050826 20\", \"20050827 02\", \"20050827 08\", \"20050827 14\", \n",
    "         \"20050827 20\", \"20050828 02\", \"20050828 08\", \"20050828 08\",\n",
    "         \"20050828 11\", \"20050828 14\", \"20050828 17\", \"20050828 20\", \n",
    "         \"20050829 02\", \"20050829 08\", \"20050829 14\", \"20050829 20\", \n",
    "         \"20050830 02\", \"20050830 08\", \"20050830 14\", \"20050830 20\"\n",
    "        ]"
   ]
  },
  {
   "cell_type": "code",
   "execution_count": null,
   "metadata": {},
   "outputs": [],
   "source": [
    "lons = [-75.5, -76.0, -76.4, -76.7, -77.2, -78.0, -78.7,\n",
    "        -79.3, -79.9, -80.7, -81.5, -82.2, -82.2, -82.9,\n",
    "        -83.6, -84.4, -85.0, -85.6, -86.2, -86.2, -86.8,\n",
    "        -87.4, -87.7, -88.1, -89.0, -89.4, -89.6, -89.6,\n",
    "        -89.6, -88.5, -88.4, -87.5]\n",
    "lats = [23.2, 23.4, 24.0, 24.7, 25.6, 26.0, 26.2, \n",
    "        26.2, 26.2, 25.5, 25.3, 25.1, 25.1, 24.8,\n",
    "        24.6, 24.4, 24.5, 24.6, 25.0, 25.0, 25.1,\n",
    "        25.4, 25.7, 26.0, 26.9, 27.6, 28.8, 30.2,\n",
    "        31.9, 33.5, 34.7, 36.3]"
   ]
  },
  {
   "cell_type": "code",
   "execution_count": null,
   "metadata": {},
   "outputs": [],
   "source": [
    "pres = [1007.0, 1007.0, 1006.0, 1006.0, 1002.0, 1001.0, 1000.0,\n",
    "         997.0,  985.0,  984.0,  987.0,  981.0,  971.0,  965.0,\n",
    "         965.0,  945.0,  940.0,  945.0,  939.0,  939.0,  935.0, \n",
    "         935.0,  908.0,  907.0,  902.0,  904.0,  915.0,  927.0,\n",
    "         960.0,  973.0,  981.0,  985.0]"
   ]
  },
  {
   "cell_type": "markdown",
   "metadata": {},
   "source": [
    "Let us make sure that the lists `dates`, `lats`, `lons` and `pres` have the same length:"
   ]
  },
  {
   "cell_type": "code",
   "execution_count": null,
   "metadata": {},
   "outputs": [],
   "source": [
    "assert(len(dates)==len(lons))"
   ]
  },
  {
   "cell_type": "code",
   "execution_count": null,
   "metadata": {},
   "outputs": [],
   "source": [
    "assert(len(lats)==len(lons))"
   ]
  },
  {
   "cell_type": "code",
   "execution_count": null,
   "metadata": {},
   "outputs": [],
   "source": [
    "assert(len(lats)==len(pres))"
   ]
  },
  {
   "cell_type": "markdown",
   "metadata": {},
   "source": [
    "We can then create a Pandas DataFrame:"
   ]
  },
  {
   "cell_type": "code",
   "execution_count": null,
   "metadata": {},
   "outputs": [],
   "source": [
    "df = pd.DataFrame(dict(t=dates, latitude=lats, longitude=lons, pressure=pres))\n",
    "df"
   ]
  },
  {
   "cell_type": "markdown",
   "metadata": {},
   "source": [
    "We can get basic information on the columns:"
   ]
  },
  {
   "cell_type": "code",
   "execution_count": null,
   "metadata": {},
   "outputs": [],
   "source": [
    "df.info()"
   ]
  },
  {
   "cell_type": "markdown",
   "metadata": {},
   "source": [
    "Let us plot the location:"
   ]
  },
  {
   "cell_type": "code",
   "execution_count": null,
   "metadata": {},
   "outputs": [],
   "source": [
    "df.plot(kind=\"scatter\", x='longitude', y='latitude');"
   ]
  },
  {
   "cell_type": "markdown",
   "metadata": {},
   "source": [
    "Before we procceed, we need to convert the `'t'` column from strings to datetime objects:"
   ]
  },
  {
   "cell_type": "code",
   "execution_count": null,
   "metadata": {},
   "outputs": [],
   "source": [
    "df['t'] = pd.to_datetime(df['t'], format='%Y%m%d %H')\n",
    "df"
   ]
  },
  {
   "cell_type": "markdown",
   "metadata": {},
   "source": [
    "![fig_gpd](https://geopandas.org/en/stable/_static/geopandas_logo_web.svg)\n",
    "\n",
    "- A Python library that allows you to process shapefiles representing tabular data (like Pandas), where every row is associated with a geometry.\n",
    "- Designed to primarily work with vector data.\n",
    "- Extends the capabilities of Pandas to enable spatial operations on geometric types.\n",
    "  - Geometric operations are performed by Shapely.\n",
    "- Includes new data types such as `GeoDataFrame` and `GeoSeries` which are subclasses of Pandas DataFrame and Series and enables efficient vector data processing in Python. "
   ]
  },
  {
   "cell_type": "markdown",
   "metadata": {},
   "source": [
    "### <font color=\"blue\">GeoDataFrame</font>\n",
    "- A tabular data structure that contains a \"geometry\" column.\n",
    "- The geometry column defines a point, line, or polygon associated with the rest of the columns. This column is a collection of `Shapely` objects. \n",
    "- The Coordinate Reference System (CRS) is the coordinate reference system of the geometry column that tells us where a point, line, or polygon lies on the Earth's surface. GeoPandas maps a geometry onto the Earth's surface.\n",
    "- The “geometry” column – no matter its name – can be accessed through the geometry attribute (`gdf.geometry`), and the name of the `geometry` column can be found by typing `gdf.geometry.name`.\n",
    "\n",
    "\n",
    "![fig_frame](https://geopandas.org/en/stable/_images/dataframe.svg)\n",
    "Image Source: [GeoPandas](https://geopandas.org/en/stable/getting_started/introduction.html)"
   ]
  },
  {
   "cell_type": "markdown",
   "metadata": {},
   "source": [
    "#### Add a `'geometry'` column to the Pandas DataFrame\n",
    "\n",
    "Convert the positions (latitude and longitude) into Shapely POINT objects:"
   ]
  },
  {
   "cell_type": "code",
   "execution_count": null,
   "metadata": {},
   "outputs": [],
   "source": [
    "df['geometry'] = [shpgeom.Point(xy) for xy in zip(df['longitude'], df['latitude'])] \n",
    "df"
   ]
  },
  {
   "cell_type": "markdown",
   "metadata": {},
   "source": [
    "#### Create a GeoDataFrame from the Pandas DataFrame"
   ]
  },
  {
   "cell_type": "code",
   "execution_count": null,
   "metadata": {},
   "outputs": [],
   "source": [
    "gdf = gpd.GeoDataFrame(df, geometry=\"geometry\") \n",
    "gdf"
   ]
  },
  {
   "cell_type": "markdown",
   "metadata": {},
   "source": [
    "#### Basic visualization"
   ]
  },
  {
   "cell_type": "code",
   "execution_count": null,
   "metadata": {},
   "outputs": [],
   "source": [
    "gdf.plot(figsize=(7,10));"
   ]
  },
  {
   "cell_type": "markdown",
   "metadata": {},
   "source": [
    "![fig_logo](https://movingpandas.github.io/movingpandas/assets/img/logo-wide.svg)\n",
    "\n",
    "- A Python library (based on Pandas, GeoPandas and HoloViz) for handling the movement of geospatial objects.\n",
    "- Provides trajectory data structures and functions for movement data exploration and analysis.\n",
    "- A trajectory is:\n",
    "   - A time-ordered series of geometries. The geometries and associated attributes are stored in a GeoPandas GeoDataFrame.\n",
    "   - __Can be seen as a sequence of points that specify the position of a moving object in space and time__.\n",
    "   - A segment is a part of the trajectory that contains a list of episodes. \n",
    "       - Each episode has a starting and ending timestamp, a segmentation criterion (annotation type), and an episode annotation. \n",
    "       - For instance, an annotation type can be the “weather conditions”, and an episode annotation can be “a storm”, “heavy rain”, “extremely high waves”, etc.\n",
    "\n",
    "\n"
   ]
  },
  {
   "cell_type": "markdown",
   "metadata": {},
   "source": [
    "#### Create a MovingPandas trajectory"
   ]
  },
  {
   "cell_type": "code",
   "execution_count": null,
   "metadata": {},
   "outputs": [],
   "source": [
    "mdf_traj = mpd.Trajectory(df, traj_id=1,\n",
    "                      x = \"longitude\", y=\"latitude\", t=\"t\")\n",
    "\n",
    "mdf_traj"
   ]
  },
  {
   "cell_type": "code",
   "execution_count": null,
   "metadata": {},
   "outputs": [],
   "source": [
    "mdf_traj.df"
   ]
  },
  {
   "cell_type": "markdown",
   "metadata": {},
   "source": [
    "#### Determine the star date, end date and duration of the trajectory"
   ]
  },
  {
   "cell_type": "code",
   "execution_count": null,
   "metadata": {},
   "outputs": [],
   "source": [
    "mdf_traj.get_start_time()"
   ]
  },
  {
   "cell_type": "code",
   "execution_count": null,
   "metadata": {},
   "outputs": [],
   "source": [
    "mdf_traj.get_end_time()"
   ]
  },
  {
   "cell_type": "code",
   "execution_count": null,
   "metadata": {},
   "outputs": [],
   "source": [
    "mdf_traj.get_duration()"
   ]
  },
  {
   "cell_type": "markdown",
   "metadata": {},
   "source": [
    "#### Compute the sampling interval (median time difference between records)"
   ]
  },
  {
   "cell_type": "code",
   "execution_count": null,
   "metadata": {},
   "outputs": [],
   "source": [
    "mdf_traj.get_sampling_interval()"
   ]
  },
  {
   "cell_type": "markdown",
   "metadata": {},
   "source": [
    "#### Compute the length of the trajectory"
   ]
  },
  {
   "cell_type": "code",
   "execution_count": null,
   "metadata": {},
   "outputs": [],
   "source": [
    "str(mdf_traj.get_start_location())"
   ]
  },
  {
   "cell_type": "code",
   "execution_count": null,
   "metadata": {},
   "outputs": [],
   "source": [
    "str(mdf_traj.get_end_location())"
   ]
  },
  {
   "cell_type": "code",
   "execution_count": null,
   "metadata": {},
   "outputs": [],
   "source": [
    "mdf_traj.get_length(units=\"mi\")"
   ]
  },
  {
   "cell_type": "markdown",
   "metadata": {},
   "source": [
    "#### Add the `distance` and the `speed` columns\n",
    "\n",
    "- MovingPandas has built-in functions to compute the distance and speed"
   ]
  },
  {
   "cell_type": "code",
   "execution_count": null,
   "metadata": {},
   "outputs": [],
   "source": [
    "mdf_traj.add_distance(overwrite=True, units=\"mi\")\n",
    "mdf_traj.df"
   ]
  },
  {
   "cell_type": "code",
   "execution_count": null,
   "metadata": {},
   "outputs": [],
   "source": [
    "mdf_traj.add_speed(overwrite=True, \n",
    "              name=\"speed\", units=(\"mi\", \"h\"))\n",
    "\n",
    "mdf_traj.df"
   ]
  },
  {
   "cell_type": "markdown",
   "metadata": {},
   "source": [
    "#### Create 2D plots"
   ]
  },
  {
   "cell_type": "code",
   "execution_count": null,
   "metadata": {},
   "outputs": [],
   "source": [
    "mdf_traj.df.hvplot(x='t', y='speed')"
   ]
  },
  {
   "cell_type": "code",
   "execution_count": null,
   "metadata": {},
   "outputs": [],
   "source": [
    "mdf_traj.df.hvplot(x='t', y='pressure')"
   ]
  },
  {
   "cell_type": "markdown",
   "metadata": {},
   "source": [
    "#### Create maps"
   ]
  },
  {
   "cell_type": "code",
   "execution_count": null,
   "metadata": {},
   "outputs": [],
   "source": [
    "fig, ax = plt.subplots(1, figsize=(20,10))\n",
    "mdf_traj.plot(ax=ax);"
   ]
  },
  {
   "cell_type": "code",
   "execution_count": null,
   "metadata": {},
   "outputs": [],
   "source": [
    "fig, ax = plt.subplots(1, figsize=(20,10))\n",
    "mdf_traj.plot(ax=ax, legend=\"true\", \n",
    "              capstyle='round',\n",
    "              column=\"pressure\", \n",
    "              linewidth=5,\n",
    "              cmap='jet');"
   ]
  },
  {
   "cell_type": "code",
   "execution_count": null,
   "metadata": {},
   "outputs": [],
   "source": [
    "mdf_traj.hvplot(c=\"pressure\", cmap=\"jet\")"
   ]
  },
  {
   "cell_type": "code",
   "execution_count": null,
   "metadata": {},
   "outputs": [],
   "source": [
    "mdf_traj.hvplot(c=\"speed\", cmap=\"jet\")"
   ]
  },
  {
   "cell_type": "markdown",
   "metadata": {},
   "source": [
    "We can select the background image with the by setting the `tiles` parameter with one of the options:\n",
    "\n",
    "   ‘CartoDark’, ‘CartoEco’, ‘CartoLight’, ‘CartoMidnight’, \n",
    "   ‘EsriImagery’, ‘EsriNatGeo’, ‘EsriReference’, ’EsriTerrain’,\n",
    "   ‘EsriUSATopo’, ‘OSM’, ‘StamenLabels’, ‘StamenTerrain’,\n",
    "   ‘StamenTerrainRetina’, ‘StamenToner’, ‘StamenTonerBackground’,\n",
    "   ‘StamenWatercolor’, ‘Wikipedia’ (default)\n"
   ]
  },
  {
   "cell_type": "code",
   "execution_count": null,
   "metadata": {},
   "outputs": [],
   "source": [
    "mdf_traj.hvplot(c=\"speed\", \n",
    "           #tiles=\"EsriNatGeo\", \n",
    "                width=900,\n",
    "                height=600,\n",
    "            xlim=(-100, -60), \n",
    "            ylim=(22, 43.5),\n",
    "           cmap=\"jet\")"
   ]
  },
  {
   "cell_type": "markdown",
   "metadata": {},
   "source": [
    "## <font color=\"red\"> Data Collection and Analyses</font>\n",
    "\n",
    "To track the movement of an object, we need to collect timeseries data:\n",
    "\n",
    "- The date/time\n",
    "- The location (latitude/longitude)\n",
    "- Fields at each location.\n",
    "\n",
    "From there, we need to:\n",
    "\n",
    "- Use \"Pandas\" to create a DataFrame with \"date/time\", \"latitude\", \"longitude\", \"field_name1\", \"field_name2\", etc. as columns.\n",
    "- Use GeoPandas to create a GeoDataFrame based on the Pandas DataFrame.\n",
    "- Use MovingPandas to create a trajectory\n",
    "- Perform analyses and visualization."
   ]
  },
  {
   "cell_type": "code",
   "execution_count": null,
   "metadata": {
    "id": "Wv3dOk6Frrqn"
   },
   "outputs": [],
   "source": []
  }
 ],
 "metadata": {
  "anaconda-cloud": {},
  "colab": {
   "collapsed_sections": [],
   "name": "introduction_geopandas.ipynb",
   "provenance": []
  },
  "kernelspec": {
   "display_name": "Python 3 (ipykernel)",
   "language": "python",
   "name": "python3"
  },
  "language_info": {
   "codemirror_mode": {
    "name": "ipython",
    "version": 3
   },
   "file_extension": ".py",
   "mimetype": "text/x-python",
   "name": "python",
   "nbconvert_exporter": "python",
   "pygments_lexer": "ipython3",
   "version": "3.11.4"
  }
 },
 "nbformat": 4,
 "nbformat_minor": 4
}
