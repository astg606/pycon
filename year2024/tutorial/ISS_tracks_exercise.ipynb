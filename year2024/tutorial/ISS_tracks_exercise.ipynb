{
 "cells": [
  {
   "cell_type": "markdown",
   "id": "80bc30cc-cf8f-4b1c-b4d5-b6c0a316639c",
   "metadata": {},
   "source": [
    "<center>\n",
    "<table>\n",
    "  <tr>\n",
    "    <td><img src=\"https://portal.nccs.nasa.gov/datashare/astg/training/python/logos/nasa-logo.svg\" width=\"100\"/> </td>\n",
    "     <td><img src=\"https://portal.nccs.nasa.gov/datashare/astg/training/python/logos/ASTG_logo.png?raw=true\" width=\"80\"/> </td>\n",
    "     <td> <img src=\"https://www.nccs.nasa.gov/sites/default/files/NCCS_Logo_0.png\" width=\"130\"/> </td>\n",
    "    </tr>\n",
    "</table>\n",
    "</center>\n",
    "\n",
    "        \n",
    "<center>\n",
    "<h2><font color= \"blue\" size=\"+3\">PyCon 2024 Tutorial</font></h2>\n",
    "</center>\n",
    "\n",
    "---\n",
    "\n",
    "<center>\n",
    "    <h3>Python Workflows to Extract and Plot Satellite Data Products along Tracks</h3>\n",
    "    <h2><font color=\"red\" size=\"+3\">International Space Station - Exercise 2</font></h2>\n",
    "</center>"
   ]
  },
  {
   "cell_type": "markdown",
   "id": "2d602f7c-1428-4cc8-9ec5-b35203b4f632",
   "metadata": {},
   "source": [
    "## <font color=\"red\"> Objectives</font>\n",
    "\n",
    "- The International Space Station (ISS) makes 16 orbits of Earth, traveling through 16 sunrises and sunsets.\n",
    "- ISS travels at a speed of five miles per second, circling Earth about every 90 minutes.\n",
    "- We wrote a Python code that collects every 5 seconds (for over 5 hours) the position (latitude/longitude) and the date/time.\n",
    "- For each ISS position, the code determines:\n",
    "   - If it is a land or not (ocean)\n",
    "   - The name of the country\n",
    "   - The weather condition (temperature and wind speed)\n",
    "   - The track id. A new track is set when ISS crosses the International Date Line (180th meridian)\n",
    "- The collected time series data is written in a CSV file.\n",
    "\n",
    "__The goal of this exercise is to read the CSV file using Pandas and then use GeoPandas and MovingPandas to perform data manipulation and visualization.__\n",
    "\n",
    "To have more information on this exercise and to see what kind of manipulations we can do with the data, please check:\n",
    "\n",
    "[Python Tool for Tracking the Movement of the International Space Station and Identifying the Weather Condition along the Track](https://github.com/astg606/pycon/tree/main/year2024/poster#readme)"
   ]
  },
  {
   "cell_type": "markdown",
   "id": "04341941-793b-4dae-abaf-4008650ff7fa",
   "metadata": {},
   "source": [
    "## <font color=\"red\">Import necessary modules</font>"
   ]
  },
  {
   "cell_type": "code",
   "execution_count": null,
   "id": "21fc2647-f089-4f34-902b-9de9c55ba827",
   "metadata": {},
   "outputs": [],
   "source": [
    "import warnings\n",
    "warnings.filterwarnings(\"ignore\")"
   ]
  },
  {
   "cell_type": "code",
   "execution_count": null,
   "id": "8810774d-0199-4844-8422-1f7e0cfec2cf",
   "metadata": {},
   "outputs": [],
   "source": [
    "import datetime as dt\n",
    "from pathlib import Path"
   ]
  },
  {
   "cell_type": "code",
   "execution_count": null,
   "id": "97485812-d973-46e3-9550-ba277d859775",
   "metadata": {},
   "outputs": [],
   "source": [
    "%matplotlib inline\n",
    "import matplotlib\n",
    "import matplotlib.pyplot as plt\n",
    "import matplotlib.ticker as mticker"
   ]
  },
  {
   "cell_type": "code",
   "execution_count": null,
   "id": "a9111525-5fe1-4dcc-a1d5-3d4d3602ab6e",
   "metadata": {},
   "outputs": [],
   "source": [
    "import numpy as np\n",
    "import pandas as pd\n",
    "import geopandas as gpd"
   ]
  },
  {
   "cell_type": "code",
   "execution_count": null,
   "id": "4f3d419b-1e0b-4d3e-9915-240163100823",
   "metadata": {},
   "outputs": [],
   "source": [
    "from shapely import geometry as shpgeom\n",
    "from shapely import wkt as shpwkt"
   ]
  },
  {
   "cell_type": "code",
   "execution_count": null,
   "id": "bda61917-08ef-4e8b-9e83-8342d8439dac",
   "metadata": {},
   "outputs": [],
   "source": [
    "import movingpandas as mpd"
   ]
  },
  {
   "cell_type": "code",
   "execution_count": null,
   "id": "e1d50feb-eb98-4198-b3da-a969f67b4ab9",
   "metadata": {},
   "outputs": [],
   "source": [
    "import holoviews as hv\n",
    "import hvplot.pandas "
   ]
  },
  {
   "cell_type": "markdown",
   "id": "c1e64cfd-d7dd-456e-831b-1436f847c199",
   "metadata": {},
   "source": [
    "## <font color=\"red\">Read the CSV file</font>"
   ]
  },
  {
   "cell_type": "code",
   "execution_count": null,
   "id": "123785d1-cef6-450c-8db7-35285fadeb92",
   "metadata": {},
   "outputs": [],
   "source": [
    "data_dir = \"/Users/jkouatch/myTasks/PythonTraining/ASTG606/Materials/sat_data/ISS_Data/\"\n",
    "#data_dir = \"/tljh-data/sat_data/ISS_Data\""
   ]
  },
  {
   "cell_type": "code",
   "execution_count": null,
   "id": "3f167aec-3a62-4763-b844-4058299ae8bb",
   "metadata": {},
   "outputs": [],
   "source": [
    "file_name = Path(data_dir) / \"iss_timeseries_trajectories_20240303_104539.csv\""
   ]
  },
  {
   "cell_type": "code",
   "execution_count": null,
   "id": "dc50db02-a288-4586-8284-df166aaee910",
   "metadata": {},
   "outputs": [],
   "source": [
    "df = pd.read_csv(file_name)"
   ]
  },
  {
   "cell_type": "code",
   "execution_count": null,
   "id": "b59a1e65-a76d-4aac-83e8-a2ac9f3f9913",
   "metadata": {},
   "outputs": [],
   "source": [
    "df"
   ]
  },
  {
   "cell_type": "markdown",
   "id": "6b0f4348-d792-4b82-a75e-9ac2a67a1707",
   "metadata": {},
   "source": [
    "## <font color=\"red\">Perform Analyses</font>"
   ]
  },
  {
   "cell_type": "code",
   "execution_count": null,
   "id": "af7398fa-3667-478f-9598-5686319fc4f3",
   "metadata": {},
   "outputs": [],
   "source": []
  },
  {
   "cell_type": "code",
   "execution_count": null,
   "id": "f56eb42c-6fa0-404d-b39a-a2115031ddb1",
   "metadata": {},
   "outputs": [],
   "source": []
  },
  {
   "cell_type": "code",
   "execution_count": null,
   "id": "3bd3240d-d4a1-42db-a871-073d5318ca98",
   "metadata": {},
   "outputs": [],
   "source": []
  },
  {
   "cell_type": "code",
   "execution_count": null,
   "id": "b57c8dd1-21d4-4f8c-8822-8155333e79b2",
   "metadata": {},
   "outputs": [],
   "source": []
  },
  {
   "cell_type": "code",
   "execution_count": null,
   "id": "506f6121-537a-477a-9a6c-ecd1f070404a",
   "metadata": {},
   "outputs": [],
   "source": []
  }
 ],
 "metadata": {
  "kernelspec": {
   "display_name": "Python 3 (ipykernel)",
   "language": "python",
   "name": "python3"
  },
  "language_info": {
   "codemirror_mode": {
    "name": "ipython",
    "version": 3
   },
   "file_extension": ".py",
   "mimetype": "text/x-python",
   "name": "python",
   "nbconvert_exporter": "python",
   "pygments_lexer": "ipython3",
   "version": "3.11.4"
  }
 },
 "nbformat": 4,
 "nbformat_minor": 5
}
