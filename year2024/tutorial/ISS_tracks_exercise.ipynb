{
 "cells": [
  {
   "cell_type": "markdown",
   "id": "ff4eb71a-be1f-40c1-b169-e4d7366ac232",
   "metadata": {},
   "source": [
    "<center>\n",
    "<table>\n",
    "  <tr>\n",
    "    <td><img src=\"https://portal.nccs.nasa.gov/datashare/astg/training/python/logos/nasa-logo.svg\" width=\"100\"/> </td>\n",
    "     <td><img src=\"https://portal.nccs.nasa.gov/datashare/astg/training/python/logos/ASTG_logo.png?raw=true\" width=\"80\"/> </td>\n",
    "     <td> <img src=\"https://www.nccs.nasa.gov/sites/default/files/NCCS_Logo_0.png\" width=\"130\"/> </td>\n",
    "    </tr>\n",
    "</table>\n",
    "</center>\n",
    "\n",
    "        \n",
    "<center>\n",
    "<h2><font color= \"blue\" size=\"+3\">PyCon 2024 Tutorial</font></h2>\n",
    "</center>\n",
    "\n",
    "---\n",
    "\n",
    "<center>\n",
    "    <h3>Python Workflows to Extract and Plot Satellite Data Products along Tracks</h3>\n",
    "    <h2><font color=\"red\" size=\"+3\">International Space Station - Option 2</font></h2>\n",
    "</center>"
   ]
  },
  {
   "cell_type": "markdown",
   "id": "dec387da-f340-4d0a-930f-93ac0f6f5d16",
   "metadata": {},
   "source": [
    "----\n",
    "[Jules Kouatchou](mailto:Jules.Kouatchou@nasa.gov) • [Bruce Van Aartsen](mailto:bruce.vanaartsen@nasa.gov)\n",
    "-\n",
    "----"
   ]
  },
  {
   "cell_type": "markdown",
   "id": "f1c4d95f-fcf3-4c9f-b7ea-43902693a7e1",
   "metadata": {},
   "source": [
    "## <font color=\"blue\">Objective</font>\n",
    "\n",
    "- The International Space Station (ISS) makes 16 orbits of Earth, traveling through 16 sunrises and sunsets.\n",
    "- ISS travels at a speed of five miles per second, circling Earth about every 90 minutes.\n",
    "- We wrote a Python code that collects every 5 seconds (for over 5 hours) the position (latitude/longitude) and the date/time.\n",
    "- For each ISS position, the code determines:\n",
    "   - If it is a land or not (ocean)\n",
    "   - The name of the country\n",
    "   - The weather condition (temperature and wind speed)\n",
    "   - The track id. A new track is set when ISS crosses the International Date Line (180th meridian)\n",
    "- The collected time series data is written in a CSV file.\n",
    "\n",
    "__The goal of this exercise is to read the CSV file using Pandas and then use GeoPandas and MovingPandas to perform data manipulation and visualization.__\n",
    "\n",
    "To have more information on this exercise and to see what kind of manipulations we can do with the data, please check:\n",
    "\n",
    "[Python Tool for Tracking the Movement of the International Space Station and Identifying the Weather Condition along the Track](https://github.com/astg606/pycon/tree/main/year2024/poster#readme)"
   ]
  },
  {
   "cell_type": "markdown",
   "id": "5b1f1de0-6a93-4b6a-bfb8-5464090ad89d",
   "metadata": {},
   "source": [
    "## <font color=\"blue\">Import necessary modules</font>"
   ]
  },
  {
   "cell_type": "code",
   "execution_count": null,
   "id": "919c6a68-a719-47c5-9427-e825739a8479",
   "metadata": {},
   "outputs": [],
   "source": [
    "import warnings\n",
    "warnings.filterwarnings(\"ignore\")"
   ]
  },
  {
   "cell_type": "code",
   "execution_count": null,
   "id": "8f34f491-837a-4756-aebd-a60c921e6f61",
   "metadata": {},
   "outputs": [],
   "source": [
    "import datetime as dt\n",
    "from pathlib import Path"
   ]
  },
  {
   "cell_type": "code",
   "execution_count": null,
   "id": "3bbf5dcf-04b8-4b58-ad43-c69f94435120",
   "metadata": {},
   "outputs": [],
   "source": [
    "%matplotlib inline\n",
    "import matplotlib\n",
    "import matplotlib.pyplot as plt\n",
    "import matplotlib.ticker as mticker"
   ]
  },
  {
   "cell_type": "code",
   "execution_count": null,
   "id": "deb827c4-d360-4dc1-9fc4-9c5cae12a63f",
   "metadata": {},
   "outputs": [],
   "source": [
    "import numpy as np\n",
    "import pandas as pd\n",
    "import geopandas as gpd"
   ]
  },
  {
   "cell_type": "code",
   "execution_count": null,
   "id": "674e48b5-2afe-405e-a729-3596efc1840b",
   "metadata": {},
   "outputs": [],
   "source": [
    "from shapely import geometry as shpgeom\n",
    "from shapely import wkt as shpwkt"
   ]
  },
  {
   "cell_type": "code",
   "execution_count": null,
   "id": "cfd3fbd7-cf95-4c4d-9652-a187352f6a78",
   "metadata": {},
   "outputs": [],
   "source": [
    "import movingpandas as mpd"
   ]
  },
  {
   "cell_type": "code",
   "execution_count": null,
   "id": "9f66efa9-07f1-43bc-9d90-c54ad4b03af9",
   "metadata": {},
   "outputs": [],
   "source": [
    "import holoviews as hv\n",
    "import hvplot.pandas "
   ]
  },
  {
   "cell_type": "code",
   "execution_count": null,
   "id": "34ddc136-6725-4676-853d-e980f058145c",
   "metadata": {},
   "outputs": [],
   "source": [
    "figsize = (17, 11)"
   ]
  },
  {
   "cell_type": "markdown",
   "id": "75573709-477f-42d5-b039-86e8eec89e1c",
   "metadata": {},
   "source": [
    "## <font color=\"blue\">Read the CSV file with Pandas</font>\n",
    "\n",
    "- The CSV file has eight columns:\n",
    "   - `t`: for the date/time as strings\n",
    "   - `latitude` as floats\n",
    "   - `longitude` as floats\n",
    "   - `land_flag`\n",
    "   - `temperature`\n",
    "   - `windspeed`\n",
    "   - `traj_id`: identify an orbit\n",
    "   - `country`: country of each location\n",
    "- While reading the file, make sure that you transform the `t` values into datetime objects.\n",
    "- Rename the columns.\n",
    "- Create a new `geometry` columns"
   ]
  },
  {
   "cell_type": "code",
   "execution_count": null,
   "id": "64d22f55-0147-4ff9-bcc0-8df895584398",
   "metadata": {},
   "outputs": [],
   "source": [
    "#data_dir = \"/Users/jkouatch/myTasks/PythonTraining/ASTG606/Materials/sat_data/ISS_Data/\"\n",
    "data_dir = \"/tljh-data/sat_data/ISS_Data\""
   ]
  },
  {
   "cell_type": "code",
   "execution_count": null,
   "id": "6ce63bb0-ee53-4199-acdd-835973f2af66",
   "metadata": {},
   "outputs": [],
   "source": [
    "file_name = Path(data_dir) / \"iss_timeseries_trajectories_20240303_104539.csv\""
   ]
  },
  {
   "cell_type": "markdown",
   "id": "0a89ef0c-0f40-42a0-bc33-7c77950b833a",
   "metadata": {},
   "source": [
    "#### <font color=\"green\">Read the file to create a Pandas DataFrame</font>\n",
    "\n",
    "Do no forget to handle the date/time."
   ]
  },
  {
   "cell_type": "code",
   "execution_count": null,
   "id": "b53df351-19ee-4551-968d-51c89aa27b95",
   "metadata": {},
   "outputs": [],
   "source": [
    "dateparse = lambda x: ...\n",
    "df_iss = ..."
   ]
  },
  {
   "cell_type": "markdown",
   "id": "8dff1c4d-55ca-45a0-9b77-c51b5bc47764",
   "metadata": {},
   "source": [
    "<details><summary><b><font color=\"purple\">Click here to access the solution</font></b></summary>\n",
    "<p>\n",
    "\n",
    "```python\n",
    "dateparse = lambda x: dt.datetime.strptime(x, '%Y-%m-%d %H:%M:%S')\n",
    "df_iss = pd.read_csv(file_name,\n",
    "                parse_dates={'datetime': [0,]}, \n",
    "                date_parser=dateparse)\n",
    "```\n",
    "</details>"
   ]
  },
  {
   "cell_type": "markdown",
   "id": "608d3545-96fc-4d77-998f-4d530130284d",
   "metadata": {},
   "source": [
    "#### <font color=\"green\">Rename the `datetime` column to `t`</font>"
   ]
  },
  {
   "cell_type": "code",
   "execution_count": null,
   "id": "16d59fc3-6294-4fb9-8358-603246f1f04b",
   "metadata": {},
   "outputs": [],
   "source": [
    "df_iss."
   ]
  },
  {
   "cell_type": "markdown",
   "id": "32bb6533-c1c3-4bf9-a62f-8c8f89b0736f",
   "metadata": {},
   "source": [
    "<details><summary><b><font color=\"purple\">Click here to access the solution</font></b></summary>\n",
    "<p>\n",
    "\n",
    "```python\n",
    "df_iss.rename(columns = {'datetime': 't'}, inplace=True)\n",
    "```\n",
    "</details>"
   ]
  },
  {
   "cell_type": "markdown",
   "id": "d0902f9b-54ce-49ea-a8bb-7e41767b7190",
   "metadata": {},
   "source": [
    "#### <font color=\"green\">Add a `geometry` column</font>"
   ]
  },
  {
   "cell_type": "code",
   "execution_count": null,
   "id": "5d445638-e769-447a-8250-750a009cb7a5",
   "metadata": {},
   "outputs": [],
   "source": [
    "df_iss['geometry'] = ..."
   ]
  },
  {
   "cell_type": "markdown",
   "id": "949b8f18-ec92-4b8c-84fc-c897a99deb41",
   "metadata": {},
   "source": [
    "<details><summary><b><font color=\"purple\">Click here to access the solution</font></b></summary>\n",
    "<p>\n",
    "\n",
    "```python\n",
    "df_iss['geometry'] = [shpgeom.Point(xy) for xy in zip(df_iss['longitude'], df_iss['latitude'])] \n",
    "```\n",
    "</details>"
   ]
  },
  {
   "cell_type": "markdown",
   "id": "f74d73d9-46d1-4696-9e3e-fcdc285df8e2",
   "metadata": {},
   "source": [
    "## <font color=\"blue\">Manipulation with GeoPandas</font>\n",
    "\n",
    "#### <font color=\"green\">Use GeoPandas to create the GeoDataFrame</font>"
   ]
  },
  {
   "cell_type": "code",
   "execution_count": 1,
   "id": "2d1fc0d2-b53d-4c28-ad3b-b8f6fab29b5a",
   "metadata": {},
   "outputs": [],
   "source": [
    "gdf_iss = ..."
   ]
  },
  {
   "cell_type": "markdown",
   "id": "371de972-a824-4718-9455-05eedf33dd89",
   "metadata": {},
   "source": [
    "<details><summary><b><font color=\"purple\">Click here to access the solution</font></b></summary>\n",
    "<p>\n",
    "\n",
    "```python\n",
    "gdf_iss = gpd.GeoDataFrame(df_iss, geometry=\"geometry\") \n",
    "```\n",
    "</details>"
   ]
  },
  {
   "cell_type": "markdown",
   "id": "4aa339ce-b3a5-4cdf-b6a5-f73ea1f795aa",
   "metadata": {},
   "source": [
    "#### Interactive plot of the path of ISS"
   ]
  },
  {
   "cell_type": "code",
   "execution_count": null,
   "id": "69ad241e-5cfc-4cc1-ace7-be9a8696b271",
   "metadata": {},
   "outputs": [],
   "source": [
    "gdf_iss.hvplot(tiles='EsriTerrain', coastline=True, \n",
    "           hover_cols=[\"t\"])"
   ]
  },
  {
   "cell_type": "markdown",
   "id": "a7492552-e6d1-4c3a-8287-2315a8e35424",
   "metadata": {},
   "source": [
    "## <font color=\"blue\">Manipulation with MovingPandas</font>\n",
    "\n",
    "#### <font color=\"green\">Create the MovingPandas trajectory</font>\n",
    "\n",
    "__Note that we have here an identifier for the orbits.__"
   ]
  },
  {
   "cell_type": "code",
   "execution_count": null,
   "id": "10bb2a38-97c9-44ea-b0e6-ac84b5b9741d",
   "metadata": {},
   "outputs": [],
   "source": [
    "mdf_iss = ..."
   ]
  },
  {
   "cell_type": "markdown",
   "id": "e3115223-409c-40e6-b5b3-96119eea613b",
   "metadata": {},
   "source": [
    "<details><summary><b><font color=\"purple\">Click here to access the solution</font></b></summary>\n",
    "<p>\n",
    "\n",
    "```python\n",
    "mdf_iss = mpd.Trajectory(df_iss, traj_id_col=\"traj_id\",\n",
    "                      x = \"longitude\", y=\"latitude\", t=\"t\")\n",
    "```\n",
    "</details>"
   ]
  },
  {
   "cell_type": "markdown",
   "id": "4a0767af-da4f-4713-9524-d0c9c758c48e",
   "metadata": {},
   "source": [
    "#### Basic plot of the trajectory and the buffer"
   ]
  },
  {
   "cell_type": "code",
   "execution_count": null,
   "id": "54a323d7-de5e-4a7f-8931-af47d3a3843e",
   "metadata": {},
   "outputs": [],
   "source": [
    "fig, ax = plt.subplots(1, figsize=(20,10))\n",
    "mdf_iss.plot(ax=ax);"
   ]
  },
  {
   "cell_type": "markdown",
   "id": "cbf0bcd7-c64a-493d-8c59-338393517c93",
   "metadata": {},
   "source": [
    "#### Interactive plot of the trajectory"
   ]
  },
  {
   "cell_type": "code",
   "execution_count": null,
   "id": "963e2f02-2d8b-4a3e-98c4-c05a75d12a75",
   "metadata": {},
   "outputs": [],
   "source": [
    "mdf_iss.hvplot(line_width=0.9)"
   ]
  },
  {
   "cell_type": "markdown",
   "id": "51266370-680b-4c1f-a188-8aa7bf733c97",
   "metadata": {},
   "source": [
    "## <font color=\"blue\">Perform analyses</font>"
   ]
  },
  {
   "cell_type": "code",
   "execution_count": null,
   "id": "fa2f4839-e596-426d-b481-dbc6344c6314",
   "metadata": {},
   "outputs": [],
   "source": []
  }
 ],
 "metadata": {
  "kernelspec": {
   "display_name": "Python 3 (ipykernel)",
   "language": "python",
   "name": "python3"
  },
  "language_info": {
   "codemirror_mode": {
    "name": "ipython",
    "version": 3
   },
   "file_extension": ".py",
   "mimetype": "text/x-python",
   "name": "python",
   "nbconvert_exporter": "python",
   "pygments_lexer": "ipython3",
   "version": "3.11.4"
  }
 },
 "nbformat": 4,
 "nbformat_minor": 5
}
