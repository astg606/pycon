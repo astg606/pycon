{
 "cells": [
  {
   "cell_type": "markdown",
   "metadata": {
    "id": "-24vit7OoB1x"
   },
   "source": [
    "<center>\n",
    "<table>\n",
    "  <tr>\n",
    "    <td><img src=\"https://portal.nccs.nasa.gov/datashare/astg/training/python/logos/nasa-logo.svg\" width=\"100\"/> </td>\n",
    "     <td><img src=\"https://portal.nccs.nasa.gov/datashare/astg/training/python/logos/ASTG_logo.png?raw=true\" width=\"80\"/> </td>\n",
    "     <td> <img src=\"https://www.nccs.nasa.gov/sites/default/files/NCCS_Logo_0.png\" width=\"130\"/> </td>\n",
    "    </tr>\n",
    "</table>\n",
    "</center>\n",
    "\n",
    "        \n",
    "<center>\n",
    "<h2><font color= \"blue\" size=\"+3\">PyCon 2024 Tutorial</font></h2>\n",
    "</center>\n",
    "\n",
    "---\n",
    "\n",
    "<center>\n",
    "    <h3>Python Workflows to Extract and Plot Satellite Data Products along Tracks</h3>\n",
    "    <h2><font color=\"red\" size=\"+3\">Tracking the Movement of the Aura Satellite - Exercise</font></h2>\n",
    "</center>"
   ]
  },
  {
   "cell_type": "markdown",
   "metadata": {
    "id": "sqZRoZwmoB11"
   },
   "source": [
    "_______"
   ]
  },
  {
   "cell_type": "markdown",
   "metadata": {},
   "source": [
    "# <font color=\"red\"> Objectives</font>\n",
    "\n",
    "Use a collection of of files to:\n",
    "- Gather timeseries data (time, location, value) of surface prressure\n",
    "- Plot the data on a map"
   ]
  },
  {
   "cell_type": "markdown",
   "metadata": {
    "id": "CLTjzNBJoB12"
   },
   "source": [
    "---"
   ]
  },
  {
   "cell_type": "markdown",
   "metadata": {},
   "source": [
    "----"
   ]
  },
  {
   "cell_type": "code",
   "execution_count": null,
   "metadata": {
    "id": "nT_3Q7CUoB15"
   },
   "outputs": [],
   "source": [
    "import warnings\n",
    "warnings.filterwarnings(\"ignore\")"
   ]
  },
  {
   "cell_type": "code",
   "execution_count": null,
   "metadata": {},
   "outputs": [],
   "source": [
    "import datetime as dt\n",
    "from pathlib import Path"
   ]
  },
  {
   "cell_type": "code",
   "execution_count": null,
   "metadata": {
    "id": "ZX-VYGqaoB16"
   },
   "outputs": [],
   "source": [
    "%matplotlib inline\n",
    "import matplotlib\n",
    "import matplotlib.pyplot as plt\n",
    "import matplotlib.ticker as mticker"
   ]
  },
  {
   "cell_type": "code",
   "execution_count": null,
   "metadata": {},
   "outputs": [],
   "source": [
    "import numpy as np\n",
    "import h5py\n",
    "import pandas as pd\n",
    "import geopandas as gpd"
   ]
  },
  {
   "cell_type": "code",
   "execution_count": null,
   "metadata": {
    "id": "FBT2ouX8oB16"
   },
   "outputs": [],
   "source": [
    "from shapely import geometry as shpgeom\n",
    "from shapely import wkt as shpwkt"
   ]
  },
  {
   "cell_type": "code",
   "execution_count": null,
   "metadata": {},
   "outputs": [],
   "source": [
    "import movingpandas as mpd"
   ]
  },
  {
   "cell_type": "code",
   "execution_count": null,
   "metadata": {},
   "outputs": [],
   "source": [
    "import holoviews as hv"
   ]
  },
  {
   "cell_type": "code",
   "execution_count": null,
   "metadata": {},
   "outputs": [],
   "source": [
    "import hvplot.pandas "
   ]
  },
  {
   "cell_type": "code",
   "execution_count": null,
   "metadata": {},
   "outputs": [],
   "source": [
    "plot_defaults = {'linewidth':5, 'capstyle':'round', 'figsize':(9,3), 'legend':True}\n",
    "hv.opts.defaults(hv.opts.Overlay(active_tools=['wheel_zoom'], \n",
    "                              frame_width=500, frame_height=400))\n",
    "hvplot_defaults = {'tiles':None, 'cmap':'Viridis', 'colorbar':True}"
   ]
  },
  {
   "cell_type": "code",
   "execution_count": null,
   "metadata": {},
   "outputs": [],
   "source": [
    "mpd.show_versions()"
   ]
  },
  {
   "cell_type": "code",
   "execution_count": null,
   "metadata": {},
   "outputs": [],
   "source": []
  },
  {
   "cell_type": "markdown",
   "metadata": {},
   "source": [
    "### Data Files"
   ]
  },
  {
   "cell_type": "code",
   "execution_count": null,
   "metadata": {},
   "outputs": [],
   "source": [
    "data_dir = \"/Users/jkouatch/myTasks/PythonTraining/ASTG606/Materials/sat_data/OMI_Data/\"\n",
    "#data_dir = \"/tljh-data/sat_data/OMI_Data\""
   ]
  },
  {
   "cell_type": "code",
   "execution_count": null,
   "metadata": {},
   "outputs": [],
   "source": [
    "list_files =[\n",
    "    \"TROPESS_OMI-Aura_L2_Standard_O3_20240101_MUSES_R1p22_FS_F0p9_J1.nc\",\n",
    "    \"TROPESS_OMI-Aura_L2_Standard_O3_20240102_MUSES_R1p22_FS_F0p9_J1.nc\",\n",
    "    \"TROPESS_OMI-Aura_L2_Standard_O3_20240103_MUSES_R1p22_FS_F0p9_J1.nc\",\n",
    "    \"TROPESS_OMI-Aura_L2_Standard_O3_20240104_MUSES_R1p22_FS_F0p9_J1.nc\",\n",
    "    \"TROPESS_OMI-Aura_L2_Standard_O3_20240105_MUSES_R1p22_FS_F0p9_J1.nc\",\n",
    "    \"TROPESS_OMI-Aura_L2_Standard_O3_20240106_MUSES_R1p22_FS_F0p9_J1.nc\",\n",
    "    \"TROPESS_OMI-Aura_L2_Standard_O3_20240107_MUSES_R1p22_FS_F0p9_J1.nc\",\n",
    "    \"TROPESS_OMI-Aura_L2_Standard_O3_20240108_MUSES_R1p22_FS_F0p9_J1.nc\",\n",
    "    \"TROPESS_OMI-Aura_L2_Standard_O3_20240109_MUSES_R1p22_FS_F0p9_J1.nc\",\n",
    "    \"TROPESS_OMI-Aura_L2_Standard_O3_20240110_MUSES_R1p22_FS_F0p9_J1.nc\"\n",
    "]"
   ]
  },
  {
   "cell_type": "markdown",
   "metadata": {},
   "source": [
    "## Step 1: <font color=\"green\"> Understand the structure of one data file</green>"
   ]
  },
  {
   "cell_type": "code",
   "execution_count": null,
   "metadata": {},
   "outputs": [],
   "source": [
    "fname = Path(data_dir) / list_files[0]"
   ]
  },
  {
   "cell_type": "code",
   "execution_count": null,
   "metadata": {},
   "outputs": [],
   "source": [
    "def print_attrs(name, obj):\n",
    "    shift = name.count('/') * '    '\n",
    "    print(shift + name)\n",
    "    if isinstance(obj, h5py.Dataset):\n",
    "        print(shift + '    ' + f\"Shape: {obj[()].shape}\")\n",
    "    for key, val in obj.attrs.items():\n",
    "        print(shift + '    ' + f\"{key}: {val}\")\n",
    "        \n",
    "with h5py.File(fname, mode='r') as fid:\n",
    "    fid.visititems(print_attrs)  "
   ]
  },
  {
   "cell_type": "markdown",
   "metadata": {},
   "source": [
    "Please identify the datasets:\n",
    "\n",
    "- `latitude`\n",
    "- `longitude`\n",
    "- `time`\n",
    "- `surface temperature`\n",
    "\n",
    "Please pay attention to the unit of `time` (seconds since 1993-01-01) and the attributes of the surface temperature."
   ]
  },
  {
   "cell_type": "code",
   "execution_count": null,
   "metadata": {},
   "outputs": [],
   "source": []
  },
  {
   "cell_type": "markdown",
   "metadata": {},
   "source": [
    "## Step 2: <font color=\"green\">Write a simple code to get the `time`, `latitude`, `longitude` and `surface temperature` data arrays from one file</font>\n",
    "\n",
    "Write a function that takes as argument a file name and returns values for the surface pressure, the time, the lalitude and the longitude:\n",
    "\n",
    "```python\n",
    "def get_arrays(fname):\n",
    "    with h5py.File(fname, 'r') as fid:\n",
    "        ...\n",
    "    return surf_temp, time, lats, lons\n",
    "   ...\n",
    "```\n",
    "Test the funtion using any of the above file."
   ]
  },
  {
   "cell_type": "code",
   "execution_count": null,
   "metadata": {},
   "outputs": [],
   "source": [
    "def get_arrays(fname):\n",
    "    with h5py.File(fname, 'r') as fid:\n",
    "        surf_temp = fid['geophysical/surface_temperature'][()]\n",
    "        time = fid['time'][()]\n",
    "        lats = fid['latitude'][()]\n",
    "        lons = fid['longitude'][()]\n",
    "    return surf_temp, time, lats, lons"
   ]
  },
  {
   "cell_type": "code",
   "execution_count": null,
   "metadata": {},
   "outputs": [],
   "source": [
    "X, Y, Z, W = get_arrays(fname)\n",
    "\n",
    "print(f\"Shape of surf_temp: {X.shape}\")\n",
    "print(f\"Shape of time:      {Y.shape}\")\n",
    "print(f\"Shape of latitude:  {Z.shape}\")\n",
    "print(f\"Shape of longitude: {W.shape}\")"
   ]
  },
  {
   "cell_type": "markdown",
   "metadata": {},
   "source": [
    "<details><summary><b><font color=\"green\">Click here to access the solution</font></b></summary>\n",
    "<p>\n",
    "\n",
    "```python\n",
    "def get_arrays(fname):\n",
    "    with h5py.File(fname, 'r') as fid:\n",
    "        surf_temp = fid['geophysical/surface_temperature'][()]\n",
    "        time = fid['time'][()]\n",
    "        lats = fid['latitude'][()]\n",
    "        lons = fid['longitude'][()]\n",
    "    return surf_temp, time, lats, lons\n",
    "\n",
    "\n",
    "X, Y, Z, W = get_arrays(fname)\n",
    "\n",
    "print(f\"Shape of surf_temp: {X.shape}\")\n",
    "print(f\"Shape of time:      {Y.shape}\")\n",
    "print(f\"Shape of latitude:  {Z.shape}\")\n",
    "print(f\"Shape of longitude: {W.shape}\")\n",
    "```\n",
    "</details>"
   ]
  },
  {
   "cell_type": "markdown",
   "metadata": {},
   "source": [
    "## Step 3: <font color=\"green\">Read the data files</font>\n",
    "\n",
    "To write a script that loops over the data files and reads each of them to:\n",
    "- Gather the time, latitude, longitude, surface presssure\n",
    "- Use the surface presssure attributes \n",
    "- Load the data in a Pandas DataFrame\n"
   ]
  },
  {
   "cell_type": "code",
   "execution_count": null,
   "metadata": {},
   "outputs": [],
   "source": [
    "def convert_dict_dtype(sample_dict):\n",
    "    '''\n",
    "    Converts attribute dictionary from NumPy data types \n",
    "    to general Python data types\n",
    "\n",
    "    Parameters\n",
    "    ----------\n",
    "    sample_dict : dict\n",
    "         A dictionary of attributes\n",
    "         \n",
    "    Returns\n",
    "    sample_dict : dictt\n",
    "         A dictionary of attributes\n",
    "    '''\n",
    "    for key, item in sample_dict.items():\n",
    "        if isinstance(item, np.ndarray):   # Converts np arrays to a list to, if applicable, an int or float\n",
    "            item = list(item)\n",
    "        \n",
    "            if len(item) == 1:\n",
    "                item = item[0]\n",
    "        elif isinstance(item, np.bytes_):   # Converts np bytes to an np string to a Python string\n",
    "            item = str(item.astype('str'))\n",
    "        \n",
    "            if item[0] == '(' or item[0] == '{':   # Converts to tuple or dict if applicable\n",
    "                item = eval(item)\n",
    "            # **eval() relaiability??**\n",
    "            \n",
    "        sample_dict[key] = item   # Updates any changes to the key value\n",
    "        \n",
    "    return sample_dict"
   ]
  },
  {
   "cell_type": "code",
   "execution_count": null,
   "metadata": {},
   "outputs": [],
   "source": [
    "def get_ds_attrs(ds):\n",
    "    \"\"\"\n",
    "       Give a dataset identifier, return the dataset attribute.\n",
    "       \n",
    "       Input Parameters:\n",
    "          - ds: dataset identifier\n",
    "       Returned value:\n",
    "          - ds_attrs: a dictionary\n",
    "    \"\"\"\n",
    "    ds_attrs = dict(ds.attrs)\n",
    "    ds_attrs = convert_dict_dtype(ds_attrs)\n",
    "    \n",
    "    return ds_attrs"
   ]
  },
  {
   "cell_type": "code",
   "execution_count": null,
   "metadata": {},
   "outputs": [],
   "source": [
    "def get_ds_attribute_value(ds_attrs, attr_name):\n",
    "    '''\n",
    "    Obtain the value of a specified attribute in a dataset.\n",
    "    \n",
    "    Parameter\n",
    "    ---------\n",
    "    ds_attrs : dict\n",
    "         A dictionary of dataset attributes\n",
    "    attr_name : str\n",
    "         Attribute name    \n",
    "    \n",
    "    Returns\n",
    "    --------\n",
    "    value: float, int, str, list\n",
    "         Value of the attribute. If attribute not available, None.\n",
    "    '''\n",
    "    for key, value in ds_attrs.items():\n",
    "        if key == attr_name:\n",
    "            return value \n",
    "    return None"
   ]
  },
  {
   "cell_type": "code",
   "execution_count": null,
   "metadata": {},
   "outputs": [],
   "source": [
    "def restore_data(ds):\n",
    "    '''\n",
    "    Restore the dataset data using the dataset attributes.\n",
    "      \n",
    "    Parameters\n",
    "    ----------\n",
    "    ds : h5py dataset identifier\n",
    "    \n",
    "    Returns:\n",
    "    data : numpy array\n",
    "    '''\n",
    "    ds_attrs = get_ds_attrs(ds)\n",
    "    \n",
    "    _FillValue = get_ds_attribute_value(ds_attrs, '_FillValue')\n",
    "    \n",
    "    data = ds[()]#.astype('float')\n",
    "    \n",
    "    data = np.where(data != _FillValue, data, np.nan)\n",
    "\n",
    "    return data"
   ]
  },
  {
   "cell_type": "markdown",
   "metadata": {},
   "source": [
    "__Note that the surface temperature has a `_FillValue` attribute. We need to make sure that any entry with that value needs to be replaced with `NaN`.__\n",
    "\n",
    "<font color=\"green\">Rewrite the function in Step 2 to restore the surface temperature data</font>"
   ]
  },
  {
   "cell_type": "markdown",
   "metadata": {},
   "source": [
    "<details><summary><b><font color=\"green\">Click here to access the solution</font></b></summary>\n",
    "<p>\n",
    "\n",
    "```python\n",
    "def get_arrays(fname):\n",
    "    with h5py.File(fname, 'r') as fid:\n",
    "        surf_temp = restore_data(fid['geophysical/surface_temperature'])\n",
    "        time = fid['time'][()]\n",
    "        lats = fid['latitude'][()]\n",
    "        lons = fid['longitude'][()]\n",
    "    return surf_temp, time, lats, lons\n",
    "\n",
    "\n",
    "X, Y, Z, W = get_arrays(fname)\n",
    "\n",
    "print(f\"Shape of surf_temp: {X.shape}\")\n",
    "print(f\"Shape of time:      {Y.shape}\")\n",
    "print(f\"Shape of latitude:  {Z.shape}\")\n",
    "print(f\"Shape of longitude: {W.shape}\")\n",
    "```\n",
    "</details>"
   ]
  },
  {
   "cell_type": "code",
   "execution_count": null,
   "metadata": {},
   "outputs": [],
   "source": [
    "def get_arrays(fname):\n",
    "    with h5py.File(fname, 'r') as fid:\n",
    "        surf_temp = restore_data(fid['geophysical/surface_temperature'])\n",
    "        time = fid['time'][()]\n",
    "        lats = fid['latitude'][()]\n",
    "        lons = fid['longitude'][()]\n",
    "    return surf_temp, time, lats, lons"
   ]
  },
  {
   "cell_type": "code",
   "execution_count": null,
   "metadata": {},
   "outputs": [],
   "source": [
    "X, Y, Z, W = get_arrays(fname)\n",
    "\n",
    "print(f\"Shape of surf_temp: {X.shape}\")\n",
    "print(f\"Shape of time:      {Y.shape}\")\n",
    "print(f\"Shape of latitude:  {Z.shape}\")\n",
    "print(f\"Shape of longitude: {W.shape}\")"
   ]
  },
  {
   "cell_type": "markdown",
   "metadata": {},
   "source": [
    "<font color=\"green\">Write your script here:\n",
    "\n",
    "```python\n",
    "first_iter = True\n",
    "for i in range(len(list_files)):\n",
    "    fname = Path(data_dir) / list_files[i]\n",
    "    print(f\"Reading: {fname}\")\n",
    "    ...\n",
    "```"
   ]
  },
  {
   "cell_type": "code",
   "execution_count": null,
   "metadata": {},
   "outputs": [],
   "source": [
    "num_files = len(list_files)\n",
    "first_iter = True\n",
    "for i in range(1):\n",
    "    fname = Path(data_dir) / list_files[i]\n",
    "    print(f\"Reading: {fname}\")\n",
    "    X, Y, Z, W = get_arrays(fname)\n",
    "    if first_iter:\n",
    "        first_iter = False\n",
    "        surf_temp, time, lats, lons = X, Y, Z, W\n",
    "    else:\n",
    "        surf_temp = np.concatenate((surf_temp, X), axis=0)\n",
    "        time = np.concatenate((time, Y), axis=0)\n",
    "        lats = np.concatenate((lats, Z), axis=0)\n",
    "        lons = np.concatenate((lons, W), axis=0)"
   ]
  },
  {
   "cell_type": "markdown",
   "metadata": {},
   "source": [
    "<details><summary><b><font color=\"green\">Click here to access the solution</font></b></summary>\n",
    "<p>\n",
    "\n",
    "```python\n",
    "num_files = len(list_files)\n",
    "first_iter = True\n",
    "for i in range(1):\n",
    "    fname = Path(data_dir) / list_files[i]\n",
    "    print(f\"Reading: {fname}\")\n",
    "    X, Y, Z, W = get_arrays(fname)\n",
    "    if first_iter:\n",
    "        first_iter = False\n",
    "        surf_temp, time, lats, lons = X, Y, Z, W\n",
    "    else:\n",
    "        surf_temp = np.concatenate((surf_temp, X), axis=0)\n",
    "        time = np.concatenate((time, Y), axis=0)\n",
    "        lats = np.concatenate((lats, Z), axis=0)\n",
    "        lons = np.concatenate((lons, W), axis=0)\n",
    "```\n",
    "</details>"
   ]
  },
  {
   "cell_type": "markdown",
   "metadata": {},
   "source": [
    "## Step 4: <font color=\"green\">Create the Pandas DataFrame</font>\n"
   ]
  },
  {
   "cell_type": "markdown",
   "metadata": {},
   "source": [
    "Convert the time (GPS unit) to a datetime object:"
   ]
  },
  {
   "cell_type": "code",
   "execution_count": null,
   "metadata": {},
   "outputs": [],
   "source": [
    "Times = np.zeros_like(time, object)\n",
    "gps_epoch = dt.datetime(1993, 1, 1)\n",
    "for j, t in enumerate(time):\n",
    "    Times[j] = (gps_epoch + dt.timedelta(seconds=time[j] - (35 - 19))).strftime(\"%Y-%m-%d %H:%M:%S.%f\")"
   ]
  },
  {
   "cell_type": "code",
   "execution_count": null,
   "metadata": {},
   "outputs": [],
   "source": [
    "df_omi = pd.DataFrame(\n",
    "    dict(latitude=lats, longitude=lons, \n",
    "         surf_temp=surf_temp, t=Times))\n",
    "df_omi"
   ]
  },
  {
   "cell_type": "code",
   "execution_count": null,
   "metadata": {},
   "outputs": [],
   "source": [
    "df_omi.info()"
   ]
  },
  {
   "cell_type": "code",
   "execution_count": null,
   "metadata": {},
   "outputs": [],
   "source": [
    "df_omi['longitude'] = df_omi['longitude']%360"
   ]
  },
  {
   "cell_type": "markdown",
   "metadata": {},
   "source": [
    "## Step 5: <font color=\"green\">Create the MovingPandas trajectory</font>"
   ]
  },
  {
   "cell_type": "code",
   "execution_count": null,
   "metadata": {},
   "outputs": [],
   "source": [
    "traj_omi = mpd.Trajectory(df_omi,\n",
    "                          traj_id=1,\n",
    "                          x = \"longitude\", y=\"latitude\",\n",
    "                          t=\"t\")"
   ]
  },
  {
   "cell_type": "code",
   "execution_count": null,
   "metadata": {},
   "outputs": [],
   "source": [
    "traj_omi.df"
   ]
  },
  {
   "cell_type": "markdown",
   "metadata": {},
   "source": [
    "## Step 6: <font color=\"green\">Perform analyses and visualization</font>"
   ]
  },
  {
   "cell_type": "markdown",
   "metadata": {},
   "source": [
    "Timeseries plot:"
   ]
  },
  {
   "cell_type": "code",
   "execution_count": null,
   "metadata": {},
   "outputs": [],
   "source": [
    "traj_omi.df['surf_temp'].plot()\n",
    "plt.xticks(rotation=90);"
   ]
  },
  {
   "cell_type": "markdown",
   "metadata": {},
   "source": [
    "Histogram:"
   ]
  },
  {
   "cell_type": "code",
   "execution_count": null,
   "metadata": {},
   "outputs": [],
   "source": [
    "traj_omi.df['surf_temp'].plot(kind='hist', figsize=(12,8));"
   ]
  },
  {
   "cell_type": "code",
   "execution_count": null,
   "metadata": {},
   "outputs": [],
   "source": [
    "traj_omi.plot();"
   ]
  },
  {
   "cell_type": "code",
   "execution_count": null,
   "metadata": {},
   "outputs": [],
   "source": [
    "fig, ax = plt.subplots(figsize=(12,10))\n",
    "\n",
    "traj_omi.plot(legend=True, \n",
    "           column=\"surf_temp\", \n",
    "           capstyle='round', \n",
    "              cmap=\"jet\", ax=ax);"
   ]
  },
  {
   "cell_type": "code",
   "execution_count": null,
   "metadata": {},
   "outputs": [],
   "source": [
    "traj_omi.hvplot(tiles=\"ESRI\")"
   ]
  },
  {
   "cell_type": "code",
   "execution_count": null,
   "metadata": {},
   "outputs": [],
   "source": [
    "hv_kwargs = dict(hover_cols=[\"latitude\", \"longitude\"], frame_height=300, frame_width=300)\n",
    "\n",
    "traj_omi.hvplot(**hv_kwargs)"
   ]
  },
  {
   "cell_type": "code",
   "execution_count": null,
   "metadata": {},
   "outputs": [],
   "source": []
  },
  {
   "cell_type": "code",
   "execution_count": null,
   "metadata": {},
   "outputs": [],
   "source": []
  },
  {
   "cell_type": "code",
   "execution_count": null,
   "metadata": {},
   "outputs": [],
   "source": []
  },
  {
   "cell_type": "code",
   "execution_count": null,
   "metadata": {},
   "outputs": [],
   "source": []
  },
  {
   "cell_type": "code",
   "execution_count": null,
   "metadata": {},
   "outputs": [],
   "source": []
  },
  {
   "cell_type": "code",
   "execution_count": null,
   "metadata": {
    "id": "Wv3dOk6Frrqn"
   },
   "outputs": [],
   "source": []
  }
 ],
 "metadata": {
  "anaconda-cloud": {},
  "colab": {
   "collapsed_sections": [],
   "name": "introduction_geopandas.ipynb",
   "provenance": []
  },
  "kernelspec": {
   "display_name": "Python 3 (ipykernel)",
   "language": "python",
   "name": "python3"
  },
  "language_info": {
   "codemirror_mode": {
    "name": "ipython",
    "version": 3
   },
   "file_extension": ".py",
   "mimetype": "text/x-python",
   "name": "python",
   "nbconvert_exporter": "python",
   "pygments_lexer": "ipython3",
   "version": "3.11.4"
  }
 },
 "nbformat": 4,
 "nbformat_minor": 4
}
